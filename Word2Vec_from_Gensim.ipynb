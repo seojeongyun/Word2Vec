{
  "nbformat": 4,
  "nbformat_minor": 0,
  "metadata": {
    "colab": {
      "provenance": [],
      "gpuType": "T4",
      "authorship_tag": "ABX9TyMq8O8jDq/D8jfYdtB7hcy2",
      "include_colab_link": true
    },
    "kernelspec": {
      "name": "python3",
      "display_name": "Python 3"
    },
    "language_info": {
      "name": "python"
    },
    "accelerator": "GPU"
  },
  "cells": [
    {
      "cell_type": "markdown",
      "metadata": {
        "id": "view-in-github",
        "colab_type": "text"
      },
      "source": [
        "<a href=\"https://colab.research.google.com/github/seojeongyun/Word2Vec/blob/main/Word2Vec_from_Gensim.ipynb\" target=\"_parent\"><img src=\"https://colab.research.google.com/assets/colab-badge.svg\" alt=\"Open In Colab\"/></a>"
      ]
    },
    {
      "cell_type": "code",
      "execution_count": 1,
      "metadata": {
        "colab": {
          "base_uri": "https://localhost:8080/"
        },
        "id": "TGHAjc6mko8X",
        "outputId": "e3b5d2d9-ed7b-4a99-8e39-14b599275086"
      },
      "outputs": [
        {
          "output_type": "stream",
          "name": "stdout",
          "text": [
            "Mounted at /content/drive\n"
          ]
        }
      ],
      "source": [
        "from google.colab import drive\n",
        "drive.mount('/content/drive')"
      ]
    },
    {
      "cell_type": "code",
      "source": [
        "import urllib\n",
        "\n",
        "if __name__ == '__main__':\n",
        "    # 네이버 영화리뷰 데이터 다운로드\n",
        "    urllib.request.urlretrieve(\"https://raw.githubusercontent.com/e9t/nsmc/master/ratings_train.txt\",\n",
        "                               filename=\"/content/drive/My Drive/ratings_train.txt\")\n",
        "    urllib.request.urlretrieve(\"https://raw.githubusercontent.com/e9t/nsmc/master/ratings_test.txt\",\n",
        "                               filename=\"/content/drive/My Drive/ratings_test.txt\")"
      ],
      "metadata": {
        "id": "8iMWdTA2k3qi"
      },
      "execution_count": 3,
      "outputs": []
    },
    {
      "cell_type": "code",
      "source": [
        "!pip install konlpy # 한국어 형태소 분석기"
      ],
      "metadata": {
        "colab": {
          "base_uri": "https://localhost:8080/"
        },
        "id": "yEtOVHR8mZk0",
        "outputId": "41d4c04f-27df-45b2-c317-b19cb67ddf44"
      },
      "execution_count": 4,
      "outputs": [
        {
          "output_type": "stream",
          "name": "stdout",
          "text": [
            "Collecting konlpy\n",
            "  Downloading konlpy-0.6.0-py2.py3-none-any.whl.metadata (1.9 kB)\n",
            "Collecting JPype1>=0.7.0 (from konlpy)\n",
            "  Downloading JPype1-1.5.0-cp310-cp310-manylinux_2_17_x86_64.manylinux2014_x86_64.whl.metadata (4.9 kB)\n",
            "Requirement already satisfied: lxml>=4.1.0 in /usr/local/lib/python3.10/dist-packages (from konlpy) (4.9.4)\n",
            "Requirement already satisfied: numpy>=1.6 in /usr/local/lib/python3.10/dist-packages (from konlpy) (1.26.4)\n",
            "Requirement already satisfied: packaging in /usr/local/lib/python3.10/dist-packages (from JPype1>=0.7.0->konlpy) (24.1)\n",
            "Downloading konlpy-0.6.0-py2.py3-none-any.whl (19.4 MB)\n",
            "\u001b[2K   \u001b[90m━━━━━━━━━━━━━━━━━━━━━━━━━━━━━━━━━━━━━━━━\u001b[0m \u001b[32m19.4/19.4 MB\u001b[0m \u001b[31m71.2 MB/s\u001b[0m eta \u001b[36m0:00:00\u001b[0m\n",
            "\u001b[?25hDownloading JPype1-1.5.0-cp310-cp310-manylinux_2_17_x86_64.manylinux2014_x86_64.whl (488 kB)\n",
            "\u001b[2K   \u001b[90m━━━━━━━━━━━━━━━━━━━━━━━━━━━━━━━━━━━━━━━━\u001b[0m \u001b[32m488.6/488.6 kB\u001b[0m \u001b[31m34.7 MB/s\u001b[0m eta \u001b[36m0:00:00\u001b[0m\n",
            "\u001b[?25hInstalling collected packages: JPype1, konlpy\n",
            "Successfully installed JPype1-1.5.0 konlpy-0.6.0\n"
          ]
        }
      ]
    },
    {
      "cell_type": "code",
      "source": [
        "import torch\n",
        "import torch.nn as nn\n",
        "import torch.optim as optim\n",
        "import pandas as pd\n",
        "import re\n",
        "import numpy as np\n",
        "from tqdm import tqdm\n",
        "import urllib\n",
        "from sklearn.model_selection import train_test_split\n",
        "from konlpy.tag import Okt\n",
        "\n",
        "class data_loader:\n",
        "    def __init__(self, type: str):\n",
        "        self.train_data = pd.read_table('/content/drive/My Drive/ratings_train.txt')    # By using pandas, data save\n",
        "        self.test_data = pd.read_table('/content/drive/My Drive/ratings_test.txt')      # By using pandas, data save\n",
        "        self.stopwords = ['의', '가', '이', '은', '들', '는', '좀', '잘', '걍', '과', '도', '를', '으로', '자', '에', '와', '한', '하다'] # Set stopwords\n",
        "        self.Okt = Okt() # Tokenizer\n",
        "        self.mode = self.set_mode(type)\n",
        "\n",
        "    def set_mode(self, type: str):  # Set the dataset type (train or test)\n",
        "        if type == 'train':\n",
        "            self.data = self.train_data\n",
        "        elif type == 'test':\n",
        "            self.data = self.test_data\n",
        "        else:\n",
        "            raise NotImplementedError\n",
        "\n",
        "        return type\n",
        "\n",
        "    def print_data_len(self):\n",
        "        print('The number of reviews from {} dataset : '.format(self.mode), len(self.data))\n",
        "\n",
        "    def check_duplication(self):  # Check duplications column of document and label\n",
        "        print('There are {} unique value in document column of {} dataset'.format(self.data['document'].nunique(), self.mode))\n",
        "\n",
        "    def process(self):\n",
        "        # Remove duplications column of document\n",
        "        self.data.drop_duplicates(subset=['document'], inplace=True)\n",
        "        print('The number of {} dataset after removal for duplications : '.format(self.mode),len(self.data))\n",
        "\n",
        "        # Remove the samples with null value\n",
        "        self.data = self.data.dropna(how='any')\n",
        "        print('\\n\\nThe number of {} dataset after removal for null values : '.format(self.mode),len(self.data))\n",
        "\n",
        "        # Remove special characters with regular expression\n",
        "        print('\\n\\nBefore removal of special charaters')\n",
        "        print(self.data['document'])\n",
        "\n",
        "        self.data['document'] = self.data['document'].str.replace(pat=r'[^\\w]', repl=r'', regex=True)\n",
        "        print('\\n\\nAfter removal of special charaters')\n",
        "        print(self.data['document'])\n",
        "\n",
        "        # Change the white space value to Null value and then remove\n",
        "        # When the comment is written only special characters, some comments can be changed to white space.\n",
        "        self.data['document'] = self.data['document'].str.replace('^ +', \"\")  # change the white space to empty value\n",
        "        self.data['document'].replace('', np.nan, inplace=True)\n",
        "\n",
        "        if self.data.isnull().sum().iloc[1] != 0: # in document column\n",
        "            print('\\n\\nThe number of null values in {} dataset : '.format(self.mode), self.data.isnull().sum().iloc[1])\n",
        "            print('Remove the samples with null value')\n",
        "            self.data = self.data.dropna(how='any')\n",
        "\n",
        "        else:\n",
        "            print('\\n\\n\\n')\n",
        "\n",
        "        print('\\n\\nTotal length of the data : ', len(self.data))\n",
        "        print('\\n\\n\\n')\n",
        "\n",
        "    def get_item(self):\n",
        "        removed_stopword = []\n",
        "        for sentence in tqdm(self.data['document']):\n",
        "            tokenized_sentence = (self.Okt.morphs(sentence, stem=True))  # tokenize\n",
        "            stopwords_removed_sentence = [word for word in tokenized_sentence if not word in self.stopwords]  # remove stopwords\n",
        "            removed_stopword.append(stopwords_removed_sentence)\n",
        "\n",
        "        y_train = np.array(self.data['label']) # get labels (0 or 1)\n",
        "\n",
        "        return removed_stopword, y_train"
      ],
      "metadata": {
        "id": "ytSDWI3oliad"
      },
      "execution_count": 119,
      "outputs": []
    },
    {
      "cell_type": "code",
      "source": [
        "data_loader = data_loader(type='train')"
      ],
      "metadata": {
        "id": "X7RRIavvuHkd"
      },
      "execution_count": 120,
      "outputs": []
    },
    {
      "cell_type": "code",
      "source": [
        "data_loader.print_data_len()"
      ],
      "metadata": {
        "colab": {
          "base_uri": "https://localhost:8080/"
        },
        "id": "xITZfmXJyXm2",
        "outputId": "8bed91da-083a-4fff-cc92-53a4950e2fa6"
      },
      "execution_count": 121,
      "outputs": [
        {
          "output_type": "stream",
          "name": "stdout",
          "text": [
            "The number of reviews from train dataset :  150000\n"
          ]
        }
      ]
    },
    {
      "cell_type": "code",
      "source": [
        "data_loader.check_duplication()"
      ],
      "metadata": {
        "colab": {
          "base_uri": "https://localhost:8080/"
        },
        "id": "QySnUZaOuNZ5",
        "outputId": "159c8a86-b6f1-427e-e3de-683a99fbd70d"
      },
      "execution_count": 122,
      "outputs": [
        {
          "output_type": "stream",
          "name": "stdout",
          "text": [
            "There are 146182 unique value in document column of train dataset\n"
          ]
        }
      ]
    },
    {
      "cell_type": "code",
      "source": [
        "data_loader.process()"
      ],
      "metadata": {
        "colab": {
          "base_uri": "https://localhost:8080/"
        },
        "id": "CU6u3sf5uHih",
        "outputId": "4e6cdb68-b17d-4e48-dbc2-acc87fe57894"
      },
      "execution_count": 123,
      "outputs": [
        {
          "output_type": "stream",
          "name": "stdout",
          "text": [
            "The number of train dataset after removal for duplications :  146183\n",
            "\n",
            "\n",
            "The number of train dataset after removal for null values :  146182\n",
            "\n",
            "\n",
            "Before removal of special charaters\n",
            "0                                       아 더빙.. 진짜 짜증나네요 목소리\n",
            "1                         흠...포스터보고 초딩영화줄....오버연기조차 가볍지 않구나\n",
            "2                                         너무재밓었다그래서보는것을추천한다\n",
            "3                             교도소 이야기구먼 ..솔직히 재미는 없다..평점 조정\n",
            "4         사이몬페그의 익살스런 연기가 돋보였던 영화!스파이더맨에서 늙어보이기만 했던 커스틴 ...\n",
            "                                ...                        \n",
            "149995                                  인간이 문제지.. 소는 뭔죄인가..\n",
            "149996                                        평점이 너무 낮아서...\n",
            "149997                      이게 뭐요? 한국인은 거들먹거리고 필리핀 혼혈은 착하다?\n",
            "149998                          청춘 영화의 최고봉.방황과 우울했던 날들의 자화상\n",
            "149999                             한국 영화 최초로 수간하는 내용이 담긴 영화\n",
            "Name: document, Length: 146182, dtype: object\n",
            "\n",
            "\n",
            "After removal of special charaters\n",
            "0                                             아더빙진짜짜증나네요목소리\n",
            "1                                   흠포스터보고초딩영화줄오버연기조차가볍지않구나\n",
            "2                                         너무재밓었다그래서보는것을추천한다\n",
            "3                                      교도소이야기구먼솔직히재미는없다평점조정\n",
            "4         사이몬페그의익살스런연기가돋보였던영화스파이더맨에서늙어보이기만했던커스틴던스트가너무나도이...\n",
            "                                ...                        \n",
            "149995                                         인간이문제지소는뭔죄인가\n",
            "149996                                             평점이너무낮아서\n",
            "149997                              이게뭐요한국인은거들먹거리고필리핀혼혈은착하다\n",
            "149998                                청춘영화의최고봉방황과우울했던날들의자화상\n",
            "149999                                   한국영화최초로수간하는내용이담긴영화\n",
            "Name: document, Length: 146182, dtype: object\n",
            "\n",
            "\n",
            "The number of null values in train dataset :  96\n",
            "Remove the samples with null value\n",
            "\n",
            "\n",
            "Total length of the data :  146086\n",
            "\n",
            "\n",
            "\n",
            "\n"
          ]
        },
        {
          "output_type": "stream",
          "name": "stderr",
          "text": [
            "<ipython-input-119-593dd0da387c>:49: SettingWithCopyWarning: \n",
            "A value is trying to be set on a copy of a slice from a DataFrame.\n",
            "Try using .loc[row_indexer,col_indexer] = value instead\n",
            "\n",
            "See the caveats in the documentation: https://pandas.pydata.org/pandas-docs/stable/user_guide/indexing.html#returning-a-view-versus-a-copy\n",
            "  self.data['document'] = self.data['document'].str.replace(pat=r'[^\\w]', repl=r'', regex=True)\n",
            "<ipython-input-119-593dd0da387c>:55: SettingWithCopyWarning: \n",
            "A value is trying to be set on a copy of a slice from a DataFrame.\n",
            "Try using .loc[row_indexer,col_indexer] = value instead\n",
            "\n",
            "See the caveats in the documentation: https://pandas.pydata.org/pandas-docs/stable/user_guide/indexing.html#returning-a-view-versus-a-copy\n",
            "  self.data['document'] = self.data['document'].str.replace('^ +', \"\")  # change the white space to empty value\n",
            "<ipython-input-119-593dd0da387c>:56: SettingWithCopyWarning: \n",
            "A value is trying to be set on a copy of a slice from a DataFrame\n",
            "\n",
            "See the caveats in the documentation: https://pandas.pydata.org/pandas-docs/stable/user_guide/indexing.html#returning-a-view-versus-a-copy\n",
            "  self.data['document'].replace('', np.nan, inplace=True)\n"
          ]
        }
      ]
    },
    {
      "cell_type": "code",
      "source": [
        "# Check the ratio for class\n",
        "data_loader.data['label'].value_counts()"
      ],
      "metadata": {
        "colab": {
          "base_uri": "https://localhost:8080/",
          "height": 178
        },
        "id": "AZthU-wBuHXu",
        "outputId": "df75d8e2-ec67-4079-d265-ba74a9d43a0d"
      },
      "execution_count": 125,
      "outputs": [
        {
          "output_type": "execute_result",
          "data": {
            "text/plain": [
              "label\n",
              "0    73286\n",
              "1    72800\n",
              "Name: count, dtype: int64"
            ],
            "text/html": [
              "<table border=\"1\" class=\"dataframe\">\n",
              "  <thead>\n",
              "    <tr style=\"text-align: right;\">\n",
              "      <th></th>\n",
              "      <th>count</th>\n",
              "    </tr>\n",
              "    <tr>\n",
              "      <th>label</th>\n",
              "      <th></th>\n",
              "    </tr>\n",
              "  </thead>\n",
              "  <tbody>\n",
              "    <tr>\n",
              "      <th>0</th>\n",
              "      <td>73286</td>\n",
              "    </tr>\n",
              "    <tr>\n",
              "      <th>1</th>\n",
              "      <td>72800</td>\n",
              "    </tr>\n",
              "  </tbody>\n",
              "</table><br><label><b>dtype:</b> int64</label>"
            ]
          },
          "metadata": {},
          "execution_count": 125
        }
      ]
    },
    {
      "cell_type": "code",
      "source": [
        "# Check the null value from train set\n",
        "print(data_loader.data.isnull().values.any())\n",
        "print(data_loader.data.isnull().sum())\n",
        "data_loader.data.loc[data_loader.data.document.isnull()]"
      ],
      "metadata": {
        "colab": {
          "base_uri": "https://localhost:8080/",
          "height": 140
        },
        "id": "4jYzkdV5uPd6",
        "outputId": "109e88a6-8870-4520-9d44-5f6d31ae46bb"
      },
      "execution_count": 126,
      "outputs": [
        {
          "output_type": "stream",
          "name": "stdout",
          "text": [
            "False\n",
            "id          0\n",
            "document    0\n",
            "label       0\n",
            "dtype: int64\n"
          ]
        },
        {
          "output_type": "execute_result",
          "data": {
            "text/plain": [
              "Empty DataFrame\n",
              "Columns: [id, document, label]\n",
              "Index: []"
            ],
            "text/html": [
              "\n",
              "  <div id=\"df-2ebe246e-1cb8-4fd8-bebd-109cdd2c91b1\" class=\"colab-df-container\">\n",
              "    <div>\n",
              "<style scoped>\n",
              "    .dataframe tbody tr th:only-of-type {\n",
              "        vertical-align: middle;\n",
              "    }\n",
              "\n",
              "    .dataframe tbody tr th {\n",
              "        vertical-align: top;\n",
              "    }\n",
              "\n",
              "    .dataframe thead th {\n",
              "        text-align: right;\n",
              "    }\n",
              "</style>\n",
              "<table border=\"1\" class=\"dataframe\">\n",
              "  <thead>\n",
              "    <tr style=\"text-align: right;\">\n",
              "      <th></th>\n",
              "      <th>id</th>\n",
              "      <th>document</th>\n",
              "      <th>label</th>\n",
              "    </tr>\n",
              "  </thead>\n",
              "  <tbody>\n",
              "  </tbody>\n",
              "</table>\n",
              "</div>\n",
              "    <div class=\"colab-df-buttons\">\n",
              "\n",
              "  <div class=\"colab-df-container\">\n",
              "    <button class=\"colab-df-convert\" onclick=\"convertToInteractive('df-2ebe246e-1cb8-4fd8-bebd-109cdd2c91b1')\"\n",
              "            title=\"Convert this dataframe to an interactive table.\"\n",
              "            style=\"display:none;\">\n",
              "\n",
              "  <svg xmlns=\"http://www.w3.org/2000/svg\" height=\"24px\" viewBox=\"0 -960 960 960\">\n",
              "    <path d=\"M120-120v-720h720v720H120Zm60-500h600v-160H180v160Zm220 220h160v-160H400v160Zm0 220h160v-160H400v160ZM180-400h160v-160H180v160Zm440 0h160v-160H620v160ZM180-180h160v-160H180v160Zm440 0h160v-160H620v160Z\"/>\n",
              "  </svg>\n",
              "    </button>\n",
              "\n",
              "  <style>\n",
              "    .colab-df-container {\n",
              "      display:flex;\n",
              "      gap: 12px;\n",
              "    }\n",
              "\n",
              "    .colab-df-convert {\n",
              "      background-color: #E8F0FE;\n",
              "      border: none;\n",
              "      border-radius: 50%;\n",
              "      cursor: pointer;\n",
              "      display: none;\n",
              "      fill: #1967D2;\n",
              "      height: 32px;\n",
              "      padding: 0 0 0 0;\n",
              "      width: 32px;\n",
              "    }\n",
              "\n",
              "    .colab-df-convert:hover {\n",
              "      background-color: #E2EBFA;\n",
              "      box-shadow: 0px 1px 2px rgba(60, 64, 67, 0.3), 0px 1px 3px 1px rgba(60, 64, 67, 0.15);\n",
              "      fill: #174EA6;\n",
              "    }\n",
              "\n",
              "    .colab-df-buttons div {\n",
              "      margin-bottom: 4px;\n",
              "    }\n",
              "\n",
              "    [theme=dark] .colab-df-convert {\n",
              "      background-color: #3B4455;\n",
              "      fill: #D2E3FC;\n",
              "    }\n",
              "\n",
              "    [theme=dark] .colab-df-convert:hover {\n",
              "      background-color: #434B5C;\n",
              "      box-shadow: 0px 1px 3px 1px rgba(0, 0, 0, 0.15);\n",
              "      filter: drop-shadow(0px 1px 2px rgba(0, 0, 0, 0.3));\n",
              "      fill: #FFFFFF;\n",
              "    }\n",
              "  </style>\n",
              "\n",
              "    <script>\n",
              "      const buttonEl =\n",
              "        document.querySelector('#df-2ebe246e-1cb8-4fd8-bebd-109cdd2c91b1 button.colab-df-convert');\n",
              "      buttonEl.style.display =\n",
              "        google.colab.kernel.accessAllowed ? 'block' : 'none';\n",
              "\n",
              "      async function convertToInteractive(key) {\n",
              "        const element = document.querySelector('#df-2ebe246e-1cb8-4fd8-bebd-109cdd2c91b1');\n",
              "        const dataTable =\n",
              "          await google.colab.kernel.invokeFunction('convertToInteractive',\n",
              "                                                    [key], {});\n",
              "        if (!dataTable) return;\n",
              "\n",
              "        const docLinkHtml = 'Like what you see? Visit the ' +\n",
              "          '<a target=\"_blank\" href=https://colab.research.google.com/notebooks/data_table.ipynb>data table notebook</a>'\n",
              "          + ' to learn more about interactive tables.';\n",
              "        element.innerHTML = '';\n",
              "        dataTable['output_type'] = 'display_data';\n",
              "        await google.colab.output.renderOutput(dataTable, element);\n",
              "        const docLink = document.createElement('div');\n",
              "        docLink.innerHTML = docLinkHtml;\n",
              "        element.appendChild(docLink);\n",
              "      }\n",
              "    </script>\n",
              "  </div>\n",
              "\n",
              "\n",
              "    </div>\n",
              "  </div>\n"
            ],
            "application/vnd.google.colaboratory.intrinsic+json": {
              "type": "dataframe",
              "repr_error": "Out of range float values are not JSON compliant: nan"
            }
          },
          "metadata": {},
          "execution_count": 126
        }
      ]
    },
    {
      "cell_type": "code",
      "source": [
        "x_input,y_label = data_loader.get_item()"
      ],
      "metadata": {
        "colab": {
          "base_uri": "https://localhost:8080/"
        },
        "id": "_phtLo0DzrRa",
        "outputId": "64934f00-d381-4d4e-e906-4b90b2b0c864"
      },
      "execution_count": 127,
      "outputs": [
        {
          "output_type": "stream",
          "name": "stderr",
          "text": [
            "100%|██████████| 146086/146086 [1:06:38<00:00, 36.54it/s]\n"
          ]
        }
      ]
    },
    {
      "cell_type": "markdown",
      "source": [
        "# gensim 라이브러리의 Word2Vec 모델 파라미터\n",
        "\n",
        "**sentences** = 입력 데이터 문장.\n",
        "\n",
        "**workers** : 실행할 병렬 프로세스의 수.\n",
        "\n",
        "**size** : 각 단어에 대한 임베딩 된 벡터차원 정의. 만약 size=2 라면 한 문장의 벡터는 [-0.1248574, 0.255778]와 같은 형태를 가지게 된다.\n",
        "\n",
        "**min_count** : 단어에 대한 최소 빈도수. min_count=5라면 빈도수 5 이하 무시\n",
        "\n",
        "**window** : 문맥 윈도우 수, 양쪽으로 몇 개의 단어까지 고려해서 의미를 파악할 것인지 지정하는 것\n",
        "\n",
        "**sample** : 빠른 학습을 위해 정답 단어 라벨에 대한 다운샘플링 비율을 지정하는 것, 보통 0.001이 좋은 성능을 낸다고 한다.\n",
        "\n",
        "**sg** : 1이면 skip-gram 방법을 사용하고, 0이면 CBOW 방법을 사용한다.\n",
        "\n",
        "***iter*** : epoch와 같은 뜻으로 학습 반복 횟수를 지정한다."
      ],
      "metadata": {
        "id": "CcEHhRZy-hN2"
      }
    },
    {
      "cell_type": "code",
      "source": [
        "from gensim.models import Word2Vec\n",
        "\n",
        "model = Word2Vec(sentences = x_input, vector_size = 300, window = 5, min_count = 3, workers = 4, sg = 1, sample=0.001)\n"
      ],
      "metadata": {
        "id": "v2SGoCTRxWre"
      },
      "execution_count": 131,
      "outputs": []
    },
    {
      "cell_type": "code",
      "source": [
        "print(model.wv.most_similar(\"송강호\"))"
      ],
      "metadata": {
        "id": "mNbvGfsRtHkw",
        "outputId": "05449f2a-64f6-4ef0-9b3f-08a56bf32327",
        "colab": {
          "base_uri": "https://localhost:8080/"
        }
      },
      "execution_count": 135,
      "outputs": [
        {
          "output_type": "stream",
          "name": "stdout",
          "text": [
            "[('한석규', 0.8584898710250854), ('유해진', 0.8473111987113953), ('액션연기', 0.842033326625824), ('문채원', 0.839417576789856), ('안성기', 0.8384109139442444), ('신들리다', 0.8357061147689819), ('패닝', 0.8349151611328125), ('윤계상', 0.8343048095703125), ('류덕환', 0.8294517993927002), ('김승우', 0.8286385536193848)]\n"
          ]
        }
      ]
    }
  ]
}